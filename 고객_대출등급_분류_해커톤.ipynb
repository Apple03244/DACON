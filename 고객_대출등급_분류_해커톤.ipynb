{
  "cells": [
    {
      "cell_type": "markdown",
      "metadata": {
        "colab_type": "text",
        "id": "view-in-github"
      },
      "source": [
        "<a href=\"https://colab.research.google.com/github/Apple03244/DACON/blob/main/%EA%B3%A0%EA%B0%9D_%EB%8C%80%EC%B6%9C%EB%93%B1%EA%B8%89_%EB%B6%84%EB%A5%98_%ED%95%B4%EC%BB%A4%ED%86%A4.ipynb\" target=\"_parent\"><img src=\"https://colab.research.google.com/assets/colab-badge.svg\" alt=\"Open In Colab\"/></a>"
      ]
    },
    {
      "cell_type": "markdown",
      "metadata": {
        "id": "hv_XO4RoHxVX"
      },
      "source": [
        "# 고객 대출등급 분류 해커톤"
      ]
    },
    {
      "cell_type": "code",
      "execution_count": 1,
      "metadata": {
        "id": "ifLiWN66H9JT"
      },
      "outputs": [],
      "source": [
        "import pandas as pd"
      ]
    },
    {
      "cell_type": "code",
      "execution_count": 2,
      "metadata": {
        "id": "0otP8vxEIJZh"
      },
      "outputs": [],
      "source": [
        "train=pd.read_csv('/Users/ijeonghun/Documents/projects/dacon/고객 대출등급 분류 해커톤/train.csv')"
      ]
    },
    {
      "cell_type": "code",
      "execution_count": 3,
      "metadata": {
        "colab": {
          "base_uri": "https://localhost:8080/",
          "height": 210
        },
        "id": "Hw4hhAutIpcK",
        "outputId": "b7a8ba02-4d1c-4eb9-bbe6-08a1484508f8"
      },
      "outputs": [
        {
          "data": {
            "text/html": [
              "<div>\n",
              "<style scoped>\n",
              "    .dataframe tbody tr th:only-of-type {\n",
              "        vertical-align: middle;\n",
              "    }\n",
              "\n",
              "    .dataframe tbody tr th {\n",
              "        vertical-align: top;\n",
              "    }\n",
              "\n",
              "    .dataframe thead th {\n",
              "        text-align: right;\n",
              "    }\n",
              "</style>\n",
              "<table border=\"1\" class=\"dataframe\">\n",
              "  <thead>\n",
              "    <tr style=\"text-align: right;\">\n",
              "      <th></th>\n",
              "      <th>ID</th>\n",
              "      <th>대출금액</th>\n",
              "      <th>대출기간</th>\n",
              "      <th>근로기간</th>\n",
              "      <th>주택소유상태</th>\n",
              "      <th>연간소득</th>\n",
              "      <th>부채_대비_소득_비율</th>\n",
              "      <th>총계좌수</th>\n",
              "      <th>대출목적</th>\n",
              "      <th>최근_2년간_연체_횟수</th>\n",
              "      <th>총상환원금</th>\n",
              "      <th>총상환이자</th>\n",
              "      <th>총연체금액</th>\n",
              "      <th>연체계좌수</th>\n",
              "      <th>대출등급</th>\n",
              "    </tr>\n",
              "  </thead>\n",
              "  <tbody>\n",
              "    <tr>\n",
              "      <th>0</th>\n",
              "      <td>TRAIN_00000</td>\n",
              "      <td>12480000</td>\n",
              "      <td>36 months</td>\n",
              "      <td>6 years</td>\n",
              "      <td>RENT</td>\n",
              "      <td>72000000</td>\n",
              "      <td>18.90</td>\n",
              "      <td>15</td>\n",
              "      <td>부채 통합</td>\n",
              "      <td>0</td>\n",
              "      <td>0</td>\n",
              "      <td>0.0</td>\n",
              "      <td>0.0</td>\n",
              "      <td>0.0</td>\n",
              "      <td>C</td>\n",
              "    </tr>\n",
              "    <tr>\n",
              "      <th>1</th>\n",
              "      <td>TRAIN_00001</td>\n",
              "      <td>14400000</td>\n",
              "      <td>60 months</td>\n",
              "      <td>10+ years</td>\n",
              "      <td>MORTGAGE</td>\n",
              "      <td>130800000</td>\n",
              "      <td>22.33</td>\n",
              "      <td>21</td>\n",
              "      <td>주택 개선</td>\n",
              "      <td>0</td>\n",
              "      <td>373572</td>\n",
              "      <td>234060.0</td>\n",
              "      <td>0.0</td>\n",
              "      <td>0.0</td>\n",
              "      <td>B</td>\n",
              "    </tr>\n",
              "    <tr>\n",
              "      <th>2</th>\n",
              "      <td>TRAIN_00002</td>\n",
              "      <td>12000000</td>\n",
              "      <td>36 months</td>\n",
              "      <td>5 years</td>\n",
              "      <td>MORTGAGE</td>\n",
              "      <td>96000000</td>\n",
              "      <td>8.60</td>\n",
              "      <td>14</td>\n",
              "      <td>부채 통합</td>\n",
              "      <td>0</td>\n",
              "      <td>928644</td>\n",
              "      <td>151944.0</td>\n",
              "      <td>0.0</td>\n",
              "      <td>0.0</td>\n",
              "      <td>A</td>\n",
              "    </tr>\n",
              "  </tbody>\n",
              "</table>\n",
              "</div>"
            ],
            "text/plain": [
              "            ID      대출금액        대출기간       근로기간    주택소유상태       연간소득  \\\n",
              "0  TRAIN_00000  12480000   36 months    6 years      RENT   72000000   \n",
              "1  TRAIN_00001  14400000   60 months  10+ years  MORTGAGE  130800000   \n",
              "2  TRAIN_00002  12000000   36 months    5 years  MORTGAGE   96000000   \n",
              "\n",
              "   부채_대비_소득_비율  총계좌수   대출목적  최근_2년간_연체_횟수   총상환원금     총상환이자  총연체금액  연체계좌수 대출등급  \n",
              "0        18.90    15  부채 통합             0       0       0.0    0.0    0.0    C  \n",
              "1        22.33    21  주택 개선             0  373572  234060.0    0.0    0.0    B  \n",
              "2         8.60    14  부채 통합             0  928644  151944.0    0.0    0.0    A  "
            ]
          },
          "execution_count": 3,
          "metadata": {},
          "output_type": "execute_result"
        }
      ],
      "source": [
        "train.head(3)"
      ]
    },
    {
      "cell_type": "code",
      "execution_count": 4,
      "metadata": {
        "id": "ymD7N-0zIqZD"
      },
      "outputs": [],
      "source": [
        "import sklearn.preprocessing as skpre\n",
        "import sklearn.model_selection as skmod\n",
        "import sklearn.pipeline as skpip\n",
        "import sklearn.base as skbase\n",
        "import sklearn.compose as skcom"
      ]
    },
    {
      "cell_type": "code",
      "execution_count": 5,
      "metadata": {
        "id": "fG1opyPhJfcv"
      },
      "outputs": [],
      "source": [
        "import matplotlib.pyplot as plt\n",
        "import seaborn as sb"
      ]
    },
    {
      "cell_type": "code",
      "execution_count": 6,
      "metadata": {
        "colab": {
          "base_uri": "https://localhost:8080/"
        },
        "id": "IsflaepKKAVs",
        "outputId": "91aa1d33-380b-493d-e7ef-3c4bc4a43bc8"
      },
      "outputs": [
        {
          "name": "stdout",
          "output_type": "stream",
          "text": [
            "<class 'pandas.core.frame.DataFrame'>\n",
            "RangeIndex: 96294 entries, 0 to 96293\n",
            "Data columns (total 15 columns):\n",
            " #   Column        Non-Null Count  Dtype  \n",
            "---  ------        --------------  -----  \n",
            " 0   ID            96294 non-null  object \n",
            " 1   대출금액          96294 non-null  int64  \n",
            " 2   대출기간          96294 non-null  object \n",
            " 3   근로기간          96294 non-null  object \n",
            " 4   주택소유상태        96294 non-null  object \n",
            " 5   연간소득          96294 non-null  int64  \n",
            " 6   부채_대비_소득_비율   96294 non-null  float64\n",
            " 7   총계좌수          96294 non-null  int64  \n",
            " 8   대출목적          96294 non-null  object \n",
            " 9   최근_2년간_연체_횟수  96294 non-null  int64  \n",
            " 10  총상환원금         96294 non-null  int64  \n",
            " 11  총상환이자         96294 non-null  float64\n",
            " 12  총연체금액         96294 non-null  float64\n",
            " 13  연체계좌수         96294 non-null  float64\n",
            " 14  대출등급          96294 non-null  object \n",
            "dtypes: float64(4), int64(5), object(6)\n",
            "memory usage: 11.0+ MB\n"
          ]
        }
      ],
      "source": [
        "train.info()"
      ]
    },
    {
      "cell_type": "code",
      "execution_count": 7,
      "metadata": {
        "colab": {
          "base_uri": "https://localhost:8080/"
        },
        "id": "gURmR3LqJoZf",
        "outputId": "88d1ed8a-40e5-4d9a-e553-25e6eb77452d"
      },
      "outputs": [
        {
          "data": {
            "text/plain": [
              "대출기간\n",
              " 36 months    64479\n",
              " 60 months    31815\n",
              "Name: count, dtype: int64"
            ]
          },
          "execution_count": 7,
          "metadata": {},
          "output_type": "execute_result"
        }
      ],
      "source": [
        "train[\"대출기간\"].value_counts()"
      ]
    },
    {
      "cell_type": "code",
      "execution_count": 8,
      "metadata": {
        "id": "apUoyS49J7h3"
      },
      "outputs": [
        {
          "data": {
            "text/plain": [
              "근로기간\n",
              "10+ years    31585\n",
              "2 years       8450\n",
              "< 1 year      7774\n",
              "3 years       7581\n",
              "1 year        6249\n",
              "Unknown       5671\n",
              "5 years       5665\n",
              "4 years       5588\n",
              "8 years       4888\n",
              "6 years       3874\n",
              "7 years       3814\n",
              "9 years       3744\n",
              "10+years       896\n",
              "<1 year        370\n",
              "3               89\n",
              "1 years         56\n",
              "Name: count, dtype: int64"
            ]
          },
          "execution_count": 8,
          "metadata": {},
          "output_type": "execute_result"
        }
      ],
      "source": [
        "train[\"근로기간\"].value_counts()"
      ]
    },
    {
      "cell_type": "code",
      "execution_count": 9,
      "metadata": {
        "id": "7aGqGGzRLuhR"
      },
      "outputs": [
        {
          "data": {
            "text/plain": [
              "대출목적\n",
              "부채 통합     55150\n",
              "신용 카드     24500\n",
              "주택 개선      6160\n",
              "기타         4725\n",
              "주요 구매      1803\n",
              "의료         1039\n",
              "자동차         797\n",
              "소규모 사업      787\n",
              "이사          506\n",
              "휴가          466\n",
              "주택          301\n",
              "재생 에너지       60\n",
              "Name: count, dtype: int64"
            ]
          },
          "execution_count": 9,
          "metadata": {},
          "output_type": "execute_result"
        }
      ],
      "source": [
        "train[\"대출목적\"].value_counts()"
      ]
    },
    {
      "cell_type": "code",
      "execution_count": 10,
      "metadata": {
        "id": "jxNK10xcMBgg"
      },
      "outputs": [
        {
          "data": {
            "text/plain": [
              "주택소유상태\n",
              "MORTGAGE    47934\n",
              "RENT        37705\n",
              "OWN         10654\n",
              "ANY             1\n",
              "Name: count, dtype: int64"
            ]
          },
          "execution_count": 10,
          "metadata": {},
          "output_type": "execute_result"
        }
      ],
      "source": [
        "train[\"주택소유상태\"].value_counts()"
      ]
    },
    {
      "cell_type": "code",
      "execution_count": 11,
      "metadata": {
        "id": "8VGfxVKHMQMF"
      },
      "outputs": [
        {
          "data": {
            "text/plain": [
              "최근_2년간_연체_횟수\n",
              "0     76392\n",
              "1     13079\n",
              "2      3896\n",
              "3      1430\n",
              "4       697\n",
              "5       338\n",
              "6       178\n",
              "7        86\n",
              "8        67\n",
              "9        40\n",
              "10       35\n",
              "11       21\n",
              "12        9\n",
              "14        8\n",
              "13        8\n",
              "16        4\n",
              "18        2\n",
              "15        2\n",
              "17        1\n",
              "30        1\n",
              "Name: count, dtype: int64"
            ]
          },
          "execution_count": 11,
          "metadata": {},
          "output_type": "execute_result"
        }
      ],
      "source": [
        "train[\"최근_2년간_연체_횟수\"].value_counts()"
      ]
    },
    {
      "cell_type": "markdown",
      "metadata": {
        "id": "qqjqtFRPTyjj"
      },
      "source": [
        "### 1. 전처리"
      ]
    },
    {
      "cell_type": "code",
      "execution_count": 17,
      "metadata": {
        "id": "VSVqHgicUoL9"
      },
      "outputs": [],
      "source": [
        "import numpy as np\n",
        "import sklearn.base as skbase\n",
        "import sklearn.impute as skimp\n",
        "import sklearn.compose as skcom\n",
        "import sklearn.preprocessing as skpre\n",
        "import sklearn.pipeline as skpip\n",
        "\n",
        "\n",
        "\n",
        "#근로기간 전처리 -> ordinal\n",
        "class make_ord(skbase.TransformerMixin,skbase.BaseEstimator):\n",
        "  def __init__(self) -> None:\n",
        "    super().__init__()\n",
        "  def fit(self,X,y=None):\n",
        "    self.columns_names=list(X.columns)\n",
        "    return self\n",
        "  def get_feature_names_out(self):\n",
        "    return self.columns_names\n",
        "\n",
        "  def transform(self,X,y=None):\n",
        "    def trans(data):\n",
        "      if data==\"Unknown\":\n",
        "        return np.nan\n",
        "\n",
        "      # 여기가 까다로운 부분\n",
        "      if type(data)==str:\n",
        "        condi_1=\"<\" in data\n",
        "        condi_2=\"1\" in data\n",
        "        condi_3=\"year\" in data\n",
        "        if all([condi_1,condi_2,condi_3]):\n",
        "          return 0\n",
        "\n",
        "        condi_4=\"+\" in data\n",
        "        condi_5=\"10\" in data\n",
        "        if all([condi_4,condi_5]):\n",
        "          return 10\n",
        "        else:\n",
        "          result=[]\n",
        "          for letter in data:\n",
        "            if letter.isnumeric():\n",
        "              result.append(letter)\n",
        "          return int(\"\".join(result))\n",
        "    return X.applymap(trans)\n",
        "  \n",
        "class passthrough(skbase.BaseEstimator,skbase.TransformerMixin):\n",
        "  def __init__(self) -> None:\n",
        "    super().__init__()\n",
        "  def fit(self,X,y=None):\n",
        "    self.columns=X.columns\n",
        "  def get_feature_names_out(self):\n",
        "    return self.columns\n",
        "  def transform(self,X,y=None):\n",
        "    return X\n",
        "  \n",
        "class preprocess(skbase.BaseEstimator,skbase.TransformerMixin):\n",
        "  def __init__(self) -> None:\n",
        "    super().__init__()\n",
        "  def fit(self,X,y=None):\n",
        "    self.numeric_columns=X.select_dtypes(np.number).columns\n",
        "    self.cate_columns=X.select_dtypes(\"object\").columns.difference([\"대출등급\",'ID',\"근로기간\"])\n",
        "    self.target_column=\"대출등급\"\n",
        "    \n",
        "  "
      ]
    },
    {
      "cell_type": "code",
      "execution_count": 18,
      "metadata": {},
      "outputs": [],
      "source": [
        "test=make_ord()"
      ]
    },
    {
      "cell_type": "code",
      "execution_count": 19,
      "metadata": {},
      "outputs": [
        {
          "data": {
            "text/html": [
              "<style>#sk-container-id-1 {color: black;}#sk-container-id-1 pre{padding: 0;}#sk-container-id-1 div.sk-toggleable {background-color: white;}#sk-container-id-1 label.sk-toggleable__label {cursor: pointer;display: block;width: 100%;margin-bottom: 0;padding: 0.3em;box-sizing: border-box;text-align: center;}#sk-container-id-1 label.sk-toggleable__label-arrow:before {content: \"▸\";float: left;margin-right: 0.25em;color: #696969;}#sk-container-id-1 label.sk-toggleable__label-arrow:hover:before {color: black;}#sk-container-id-1 div.sk-estimator:hover label.sk-toggleable__label-arrow:before {color: black;}#sk-container-id-1 div.sk-toggleable__content {max-height: 0;max-width: 0;overflow: hidden;text-align: left;background-color: #f0f8ff;}#sk-container-id-1 div.sk-toggleable__content pre {margin: 0.2em;color: black;border-radius: 0.25em;background-color: #f0f8ff;}#sk-container-id-1 input.sk-toggleable__control:checked~div.sk-toggleable__content {max-height: 200px;max-width: 100%;overflow: auto;}#sk-container-id-1 input.sk-toggleable__control:checked~label.sk-toggleable__label-arrow:before {content: \"▾\";}#sk-container-id-1 div.sk-estimator input.sk-toggleable__control:checked~label.sk-toggleable__label {background-color: #d4ebff;}#sk-container-id-1 div.sk-label input.sk-toggleable__control:checked~label.sk-toggleable__label {background-color: #d4ebff;}#sk-container-id-1 input.sk-hidden--visually {border: 0;clip: rect(1px 1px 1px 1px);clip: rect(1px, 1px, 1px, 1px);height: 1px;margin: -1px;overflow: hidden;padding: 0;position: absolute;width: 1px;}#sk-container-id-1 div.sk-estimator {font-family: monospace;background-color: #f0f8ff;border: 1px dotted black;border-radius: 0.25em;box-sizing: border-box;margin-bottom: 0.5em;}#sk-container-id-1 div.sk-estimator:hover {background-color: #d4ebff;}#sk-container-id-1 div.sk-parallel-item::after {content: \"\";width: 100%;border-bottom: 1px solid gray;flex-grow: 1;}#sk-container-id-1 div.sk-label:hover label.sk-toggleable__label {background-color: #d4ebff;}#sk-container-id-1 div.sk-serial::before {content: \"\";position: absolute;border-left: 1px solid gray;box-sizing: border-box;top: 0;bottom: 0;left: 50%;z-index: 0;}#sk-container-id-1 div.sk-serial {display: flex;flex-direction: column;align-items: center;background-color: white;padding-right: 0.2em;padding-left: 0.2em;position: relative;}#sk-container-id-1 div.sk-item {position: relative;z-index: 1;}#sk-container-id-1 div.sk-parallel {display: flex;align-items: stretch;justify-content: center;background-color: white;position: relative;}#sk-container-id-1 div.sk-item::before, #sk-container-id-1 div.sk-parallel-item::before {content: \"\";position: absolute;border-left: 1px solid gray;box-sizing: border-box;top: 0;bottom: 0;left: 50%;z-index: -1;}#sk-container-id-1 div.sk-parallel-item {display: flex;flex-direction: column;z-index: 1;position: relative;background-color: white;}#sk-container-id-1 div.sk-parallel-item:first-child::after {align-self: flex-end;width: 50%;}#sk-container-id-1 div.sk-parallel-item:last-child::after {align-self: flex-start;width: 50%;}#sk-container-id-1 div.sk-parallel-item:only-child::after {width: 0;}#sk-container-id-1 div.sk-dashed-wrapped {border: 1px dashed gray;margin: 0 0.4em 0.5em 0.4em;box-sizing: border-box;padding-bottom: 0.4em;background-color: white;}#sk-container-id-1 div.sk-label label {font-family: monospace;font-weight: bold;display: inline-block;line-height: 1.2em;}#sk-container-id-1 div.sk-label-container {text-align: center;}#sk-container-id-1 div.sk-container {/* jupyter's `normalize.less` sets `[hidden] { display: none; }` but bootstrap.min.css set `[hidden] { display: none !important; }` so we also need the `!important` here to be able to override the default hidden behavior on the sphinx rendered scikit-learn.org. See: https://github.com/scikit-learn/scikit-learn/issues/21755 */display: inline-block !important;position: relative;}#sk-container-id-1 div.sk-text-repr-fallback {display: none;}</style><div id=\"sk-container-id-1\" class=\"sk-top-container\"><div class=\"sk-text-repr-fallback\"><pre>make_ord()</pre><b>In a Jupyter environment, please rerun this cell to show the HTML representation or trust the notebook. <br />On GitHub, the HTML representation is unable to render, please try loading this page with nbviewer.org.</b></div><div class=\"sk-container\" hidden><div class=\"sk-item\"><div class=\"sk-estimator sk-toggleable\"><input class=\"sk-toggleable__control sk-hidden--visually\" id=\"sk-estimator-id-1\" type=\"checkbox\" checked><label for=\"sk-estimator-id-1\" class=\"sk-toggleable__label sk-toggleable__label-arrow\">make_ord</label><div class=\"sk-toggleable__content\"><pre>make_ord()</pre></div></div></div></div></div>"
            ],
            "text/plain": [
              "make_ord()"
            ]
          },
          "execution_count": 19,
          "metadata": {},
          "output_type": "execute_result"
        }
      ],
      "source": [
        "test.fit(train[[\"근로기간\"]])"
      ]
    },
    {
      "cell_type": "code",
      "execution_count": 21,
      "metadata": {},
      "outputs": [
        {
          "name": "stderr",
          "output_type": "stream",
          "text": [
            "/var/folders/bv/d7dzvp616v1d6dz4vbkn7zw40000gn/T/ipykernel_14761/2787672213.py:43: FutureWarning: DataFrame.applymap has been deprecated. Use DataFrame.map instead.\n",
            "  return X.applymap(trans)\n"
          ]
        },
        {
          "data": {
            "text/plain": [
              "근로기간\n",
              "10.0    32481\n",
              "2.0      8450\n",
              "0.0      8144\n",
              "3.0      7670\n",
              "1.0      6305\n",
              "5.0      5665\n",
              "4.0      5588\n",
              "8.0      4888\n",
              "6.0      3874\n",
              "7.0      3814\n",
              "9.0      3744\n",
              "Name: count, dtype: int64"
            ]
          },
          "execution_count": 21,
          "metadata": {},
          "output_type": "execute_result"
        }
      ],
      "source": []
    },
    {
      "cell_type": "code",
      "execution_count": null,
      "metadata": {
        "colab": {
          "base_uri": "https://localhost:8080/"
        },
        "id": "8cf_637SXfVt",
        "outputId": "d751eb5b-b3fd-44be-a8ee-d7543379f7e6"
      },
      "outputs": [],
      "source": [
        "numeric_columns=train.select_dtypes(np.number).columns\n",
        "cate_columns=train.select_dtypes(\"object\").columns.difference([\"대출등급\",'ID',\"근로기간\"])\n",
        "target_column=\"대출등급\""
      ]
    },
    {
      "cell_type": "code",
      "execution_count": null,
      "metadata": {
        "id": "inYopBY9cSY4"
      },
      "outputs": [
        {
          "ename": "TypeError",
          "evalue": "pairplot() missing 1 required positional argument: 'data'",
          "output_type": "error",
          "traceback": [
            "\u001b[0;31m---------------------------------------------------------------------------\u001b[0m",
            "\u001b[0;31mTypeError\u001b[0m                                 Traceback (most recent call last)",
            "Cell \u001b[0;32mIn[14], line 2\u001b[0m\n\u001b[1;32m      1\u001b[0m plt\u001b[38;5;241m.\u001b[39mfigure()\n\u001b[0;32m----> 2\u001b[0m \u001b[43msb\u001b[49m\u001b[38;5;241;43m.\u001b[39;49m\u001b[43mpairplot\u001b[49m\u001b[43m(\u001b[49m\u001b[43m)\u001b[49m\n",
            "\u001b[0;31mTypeError\u001b[0m: pairplot() missing 1 required positional argument: 'data'"
          ]
        },
        {
          "data": {
            "text/plain": [
              "<Figure size 640x480 with 0 Axes>"
            ]
          },
          "metadata": {},
          "output_type": "display_data"
        }
      ],
      "source": [
        "plt.figure()\n",
        "sb.pairplot()"
      ]
    },
    {
      "cell_type": "code",
      "execution_count": null,
      "metadata": {
        "colab": {
          "base_uri": "https://localhost:8080/"
        },
        "id": "Hm7HgnsAeIfy",
        "outputId": "87499da8-8cad-485e-f08b-e4391fc8a626"
      },
      "outputs": [
        {
          "ename": "ModuleNotFoundError",
          "evalue": "No module named 'autoviz'",
          "output_type": "error",
          "traceback": [
            "\u001b[0;31m---------------------------------------------------------------------------\u001b[0m",
            "\u001b[0;31mModuleNotFoundError\u001b[0m                       Traceback (most recent call last)",
            "Cell \u001b[0;32mIn[27], line 1\u001b[0m\n\u001b[0;32m----> 1\u001b[0m \u001b[38;5;28;01mimport\u001b[39;00m \u001b[38;5;21;01mautoviz\u001b[39;00m\n",
            "\u001b[0;31mModuleNotFoundError\u001b[0m: No module named 'autoviz'"
          ]
        }
      ],
      "source": [
        "import autoviz"
      ]
    },
    {
      "cell_type": "code",
      "execution_count": null,
      "metadata": {
        "id": "ot1uNRoKO_OH"
      },
      "outputs": [],
      "source": []
    }
  ],
  "metadata": {
    "accelerator": "TPU",
    "colab": {
      "authorship_tag": "ABX9TyN5zmI1uVClN2lqsOmuLuEO",
      "include_colab_link": true,
      "provenance": []
    },
    "kernelspec": {
      "display_name": "Python 3",
      "name": "python3"
    },
    "language_info": {
      "codemirror_mode": {
        "name": "ipython",
        "version": 3
      },
      "file_extension": ".py",
      "mimetype": "text/x-python",
      "name": "python",
      "nbconvert_exporter": "python",
      "pygments_lexer": "ipython3",
      "version": "3.12.1"
    }
  },
  "nbformat": 4,
  "nbformat_minor": 0
}
